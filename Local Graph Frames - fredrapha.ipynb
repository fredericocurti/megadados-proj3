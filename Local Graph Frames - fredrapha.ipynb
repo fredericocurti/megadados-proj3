{
 "cells": [
  {
   "cell_type": "markdown",
   "metadata": {},
   "source": [
    "## Versão Local Projeto 3 Megadados\n",
    "## Frederico e Raphael"
   ]
  },
  {
   "cell_type": "code",
   "execution_count": 1,
   "metadata": {},
   "outputs": [],
   "source": [
    "import re\n",
    "from graphframes import *\n",
    "from pprint import pprint"
   ]
  },
  {
   "cell_type": "code",
   "execution_count": 2,
   "metadata": {},
   "outputs": [
    {
     "data": {
      "text/html": [
       "\n",
       "        <div>\n",
       "            <p><b>SparkContext</b></p>\n",
       "\n",
       "            <p><a href=\"http://10.92.212.80:4040\">Spark UI</a></p>\n",
       "\n",
       "            <dl>\n",
       "              <dt>Version</dt>\n",
       "                <dd><code>v2.4.0</code></dd>\n",
       "              <dt>Master</dt>\n",
       "                <dd><code>local[*]</code></dd>\n",
       "              <dt>AppName</dt>\n",
       "                <dd><code>PySparkShell</code></dd>\n",
       "            </dl>\n",
       "        </div>\n",
       "        "
      ],
      "text/plain": [
       "<SparkContext master=local[*] appName=PySparkShell>"
      ]
     },
     "execution_count": 2,
     "metadata": {},
     "output_type": "execute_result"
    }
   ],
   "source": [
    "sc"
   ]
  },
  {
   "cell_type": "markdown",
   "metadata": {},
   "source": [
    "## Load Data"
   ]
  },
  {
   "cell_type": "code",
   "execution_count": 28,
   "metadata": {},
   "outputs": [],
   "source": [
    "non_decimal = re.compile(r'[^\\d]+')\n",
    "txt = sc.textFile(\"./mock.txt\")\n",
    "titles = sc.textFile(\"./mockTitles.txt\")"
   ]
  },
  {
   "cell_type": "code",
   "execution_count": 29,
   "metadata": {},
   "outputs": [
    {
     "data": {
      "text/plain": [
       "(./mockTitles.txt MapPartitionsRDD[3179] at textFile at NativeMethodAccessorImpl.java:0,\n",
       " ./mock.txt MapPartitionsRDD[3177] at textFile at NativeMethodAccessorImpl.java:0)"
      ]
     },
     "execution_count": 29,
     "metadata": {},
     "output_type": "execute_result"
    }
   ],
   "source": [
    "titles, txt"
   ]
  },
  {
   "cell_type": "code",
   "execution_count": 30,
   "metadata": {},
   "outputs": [
    {
     "data": {
      "text/plain": [
       "['Eh',\n",
       " 'Quarta',\n",
       " 'Feira',\n",
       " 'Meus',\n",
       " 'Bacanos',\n",
       " 'Eae',\n",
       " 'Galera',\n",
       " 'Desse',\n",
       " 'Brasil']"
      ]
     },
     "execution_count": 30,
     "metadata": {},
     "output_type": "execute_result"
    }
   ],
   "source": [
    "titles.collect()"
   ]
  },
  {
   "cell_type": "markdown",
   "metadata": {},
   "source": [
    "## Nodes"
   ]
  },
  {
   "cell_type": "code",
   "execution_count": 38,
   "metadata": {},
   "outputs": [
    {
     "name": "stdout",
     "output_type": "stream",
     "text": [
      "[(1, 'Eh'),\n",
      " (2, 'Quarta'),\n",
      " (3, 'Feira'),\n",
      " (4, 'Meus'),\n",
      " (5, 'Bacanos'),\n",
      " (6, 'Eae'),\n",
      " (7, 'Galera'),\n",
      " (8, 'Desse'),\n",
      " (9, 'Brasil')]\n",
      "+---+-------+\n",
      "| id|  title|\n",
      "+---+-------+\n",
      "|  1|     Eh|\n",
      "|  2| Quarta|\n",
      "|  3|  Feira|\n",
      "|  4|   Meus|\n",
      "|  5|Bacanos|\n",
      "|  6|    Eae|\n",
      "|  7| Galera|\n",
      "|  8|  Desse|\n",
      "|  9| Brasil|\n",
      "+---+-------+\n",
      "\n"
     ]
    }
   ],
   "source": [
    "nodes = titles.zipWithIndex().map(lambda x: (x[1] + 1, x[0]))\n",
    "pprint(nodes.collect())\n",
    "nodesDf = nodes.toDF(['id', 'title'])\n",
    "\n",
    "nodesDf.show(n=99)"
   ]
  },
  {
   "cell_type": "markdown",
   "metadata": {},
   "source": [
    "## Edges"
   ]
  },
  {
   "cell_type": "code",
   "execution_count": 37,
   "metadata": {},
   "outputs": [
    {
     "name": "stdout",
     "output_type": "stream",
     "text": [
      "+---+---+\n",
      "|src|dst|\n",
      "+---+---+\n",
      "|  1|  2|\n",
      "|  1|  3|\n",
      "|  2|  1|\n",
      "|  2|  3|\n",
      "|  2|  4|\n",
      "|  3|  1|\n",
      "|  3|  2|\n",
      "|  3|  2|\n",
      "|  5|  3|\n",
      "|  6|  2|\n",
      "|  6|  8|\n",
      "|  7|  1|\n",
      "|  7|  2|\n",
      "|  7|  3|\n",
      "|  9|  3|\n",
      "+---+---+\n",
      "\n"
     ]
    }
   ],
   "source": [
    "def edge_map(x):\n",
    "    p = non_decimal.sub(' ', x).split(' ')\n",
    "    return (p[0], p[1:])\n",
    "\n",
    "edges = txt.map(edge_map).flatMapValues(lambda x: x)\n",
    "\n",
    "edgesDf = edges.toDF(['src', 'dst'])\n",
    "edgesDf.show(n=20)"
   ]
  },
  {
   "cell_type": "markdown",
   "metadata": {},
   "source": [
    "## Create graph from scratch"
   ]
  },
  {
   "cell_type": "code",
   "execution_count": 33,
   "metadata": {},
   "outputs": [],
   "source": [
    "g = GraphFrame(nodesDf, edgesDf)"
   ]
  },
  {
   "cell_type": "markdown",
   "metadata": {},
   "source": [
    "### Test graph properties"
   ]
  },
  {
   "cell_type": "code",
   "execution_count": 34,
   "metadata": {},
   "outputs": [
    {
     "name": "stdout",
     "output_type": "stream",
     "text": [
      "+---+--------+\n",
      "| id|inDegree|\n",
      "+---+--------+\n",
      "|  3|       5|\n",
      "|  8|       1|\n",
      "|  1|       3|\n",
      "|  4|       1|\n",
      "|  2|       5|\n",
      "+---+--------+\n",
      "\n",
      "+---+---------+\n",
      "| id|outDegree|\n",
      "+---+---------+\n",
      "|  7|        3|\n",
      "|  3|        3|\n",
      "|  5|        1|\n",
      "|  6|        2|\n",
      "|  9|        1|\n",
      "|  1|        2|\n",
      "|  2|        3|\n",
      "+---+---------+\n",
      "\n"
     ]
    },
    {
     "data": {
      "text/plain": [
       "(None, None)"
      ]
     },
     "execution_count": 34,
     "metadata": {},
     "output_type": "execute_result"
    }
   ],
   "source": [
    "g.inDegrees.show(), g.outDegrees.show()"
   ]
  },
  {
   "cell_type": "code",
   "execution_count": 35,
   "metadata": {},
   "outputs": [],
   "source": [
    "res = g.bfs('id=9', 'id=4')"
   ]
  },
  {
   "cell_type": "code",
   "execution_count": 36,
   "metadata": {},
   "outputs": [
    {
     "name": "stdout",
     "output_type": "stream",
     "text": [
      "+-----------+------+----------+------+-----------+------+---------+\n",
      "|       from|    e0|        v1|    e1|         v2|    e2|       to|\n",
      "+-----------+------+----------+------+-----------+------+---------+\n",
      "|[9, Brasil]|[9, 3]|[3, Feira]|[3, 2]|[2, Quarta]|[2, 4]|[4, Meus]|\n",
      "|[9, Brasil]|[9, 3]|[3, Feira]|[3, 2]|[2, Quarta]|[2, 4]|[4, Meus]|\n",
      "+-----------+------+----------+------+-----------+------+---------+\n",
      "\n"
     ]
    }
   ],
   "source": [
    "res.show()"
   ]
  },
  {
   "cell_type": "markdown",
   "metadata": {},
   "source": [
    "## Store parquet"
   ]
  },
  {
   "cell_type": "code",
   "execution_count": 29,
   "metadata": {},
   "outputs": [],
   "source": [
    "def store_parquet(g):\n",
    "    g.vertices.write.parquet(\"./vertices\", mode='overwrite')\n",
    "    g.edges.write.parquet(\"./edges\", mode='overwrite')\n",
    "    return True"
   ]
  },
  {
   "cell_type": "code",
   "execution_count": 30,
   "metadata": {},
   "outputs": [
    {
     "data": {
      "text/plain": [
       "True"
      ]
     },
     "execution_count": 30,
     "metadata": {},
     "output_type": "execute_result"
    }
   ],
   "source": [
    "store_parquet(g)"
   ]
  },
  {
   "cell_type": "markdown",
   "metadata": {},
   "source": [
    "## Load Parquet"
   ]
  },
  {
   "cell_type": "code",
   "execution_count": 31,
   "metadata": {},
   "outputs": [
    {
     "name": "stdout",
     "output_type": "stream",
     "text": [
      "+---+--------+\n",
      "| id|inDegree|\n",
      "+---+--------+\n",
      "|  7|       1|\n",
      "|  3|       8|\n",
      "|  5|       4|\n",
      "|  6|       2|\n",
      "|  9|       2|\n",
      "|  1|       7|\n",
      "| 12|       1|\n",
      "| 13|       1|\n",
      "|  2|      10|\n",
      "+---+--------+\n",
      "\n"
     ]
    }
   ],
   "source": [
    "def load_parquet(vertices_path, edges_path):\n",
    "    sameV = sqlContext.read.parquet(vertices_path)\n",
    "    sameE = sqlContext.read.parquet(edges_path)\n",
    "    sameG = GraphFrame(sameV, sameE)\n",
    "    return sameG\n",
    "\n",
    "g = load_parquet('./vertices/', './edges/')\n",
    "g.inDegrees.show()"
   ]
  },
  {
   "cell_type": "code",
   "execution_count": null,
   "metadata": {},
   "outputs": [],
   "source": []
  },
  {
   "cell_type": "code",
   "execution_count": null,
   "metadata": {},
   "outputs": [],
   "source": []
  }
 ],
 "metadata": {
  "kernelspec": {
   "display_name": "Python 3",
   "language": "python",
   "name": "python3"
  },
  "language_info": {
   "codemirror_mode": {
    "name": "ipython",
    "version": 3
   },
   "file_extension": ".py",
   "mimetype": "text/x-python",
   "name": "python",
   "nbconvert_exporter": "python",
   "pygments_lexer": "ipython3",
   "version": "3.7.1"
  }
 },
 "nbformat": 4,
 "nbformat_minor": 2
}
